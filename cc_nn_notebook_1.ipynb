{
 "cells": [
  {
   "cell_type": "code",
   "execution_count": 1,
   "metadata": {},
   "outputs": [],
   "source": [
    "import pandas as pd\n",
    "import numpy as np\n",
    "import random\n",
    "from sklearn import preprocessing\n",
    "from sklearn.model_selection import KFold\n",
    "from keras.models import Sequential\n",
    "from keras.layers import Dense\n",
    "import keras.backend as K\n"
   ]
  },
  {
   "cell_type": "code",
   "execution_count": 2,
   "metadata": {},
   "outputs": [],
   "source": [
    "df = pd.read_csv('data.csv',  names=[\"a1\", \"a2\", \"a3\", \"a4\", \"a5\", \"a6\", \"a7\", \"a8\", \"a9\", \"a10\", \"a11\", \"a12\", \"a13\", \"a14\", \"a15\", \"l\"])"
   ]
  },
  {
   "cell_type": "code",
   "execution_count": 3,
   "metadata": {},
   "outputs": [],
   "source": [
    "df = df.replace(\"?\", None)"
   ]
  },
  {
   "cell_type": "code",
   "execution_count": 4,
   "metadata": {},
   "outputs": [
    {
     "data": {
      "text/html": [
       "<div>\n",
       "<style scoped>\n",
       "    .dataframe tbody tr th:only-of-type {\n",
       "        vertical-align: middle;\n",
       "    }\n",
       "\n",
       "    .dataframe tbody tr th {\n",
       "        vertical-align: top;\n",
       "    }\n",
       "\n",
       "    .dataframe thead th {\n",
       "        text-align: right;\n",
       "    }\n",
       "</style>\n",
       "<table border=\"1\" class=\"dataframe\">\n",
       "  <thead>\n",
       "    <tr style=\"text-align: right;\">\n",
       "      <th></th>\n",
       "      <th>a1</th>\n",
       "      <th>a2</th>\n",
       "      <th>a3</th>\n",
       "      <th>a4</th>\n",
       "      <th>a5</th>\n",
       "      <th>a6</th>\n",
       "      <th>a7</th>\n",
       "      <th>a8</th>\n",
       "      <th>a9</th>\n",
       "      <th>a10</th>\n",
       "      <th>a11</th>\n",
       "      <th>a12</th>\n",
       "      <th>a13</th>\n",
       "      <th>a14</th>\n",
       "      <th>a15</th>\n",
       "      <th>l</th>\n",
       "    </tr>\n",
       "  </thead>\n",
       "  <tbody>\n",
       "    <tr>\n",
       "      <th>0</th>\n",
       "      <td>b</td>\n",
       "      <td>30.83</td>\n",
       "      <td>0.000</td>\n",
       "      <td>u</td>\n",
       "      <td>g</td>\n",
       "      <td>w</td>\n",
       "      <td>v</td>\n",
       "      <td>1.25</td>\n",
       "      <td>t</td>\n",
       "      <td>t</td>\n",
       "      <td>1</td>\n",
       "      <td>f</td>\n",
       "      <td>g</td>\n",
       "      <td>202</td>\n",
       "      <td>0</td>\n",
       "      <td>+</td>\n",
       "    </tr>\n",
       "    <tr>\n",
       "      <th>1</th>\n",
       "      <td>a</td>\n",
       "      <td>58.67</td>\n",
       "      <td>4.460</td>\n",
       "      <td>u</td>\n",
       "      <td>g</td>\n",
       "      <td>q</td>\n",
       "      <td>h</td>\n",
       "      <td>3.04</td>\n",
       "      <td>t</td>\n",
       "      <td>t</td>\n",
       "      <td>6</td>\n",
       "      <td>f</td>\n",
       "      <td>g</td>\n",
       "      <td>43</td>\n",
       "      <td>560</td>\n",
       "      <td>+</td>\n",
       "    </tr>\n",
       "    <tr>\n",
       "      <th>2</th>\n",
       "      <td>a</td>\n",
       "      <td>24.5</td>\n",
       "      <td>0.500</td>\n",
       "      <td>u</td>\n",
       "      <td>g</td>\n",
       "      <td>q</td>\n",
       "      <td>h</td>\n",
       "      <td>1.50</td>\n",
       "      <td>t</td>\n",
       "      <td>f</td>\n",
       "      <td>0</td>\n",
       "      <td>f</td>\n",
       "      <td>g</td>\n",
       "      <td>280</td>\n",
       "      <td>824</td>\n",
       "      <td>+</td>\n",
       "    </tr>\n",
       "    <tr>\n",
       "      <th>3</th>\n",
       "      <td>b</td>\n",
       "      <td>27.83</td>\n",
       "      <td>1.540</td>\n",
       "      <td>u</td>\n",
       "      <td>g</td>\n",
       "      <td>w</td>\n",
       "      <td>v</td>\n",
       "      <td>3.75</td>\n",
       "      <td>t</td>\n",
       "      <td>t</td>\n",
       "      <td>5</td>\n",
       "      <td>t</td>\n",
       "      <td>g</td>\n",
       "      <td>100</td>\n",
       "      <td>3</td>\n",
       "      <td>+</td>\n",
       "    </tr>\n",
       "    <tr>\n",
       "      <th>4</th>\n",
       "      <td>b</td>\n",
       "      <td>20.17</td>\n",
       "      <td>5.625</td>\n",
       "      <td>u</td>\n",
       "      <td>g</td>\n",
       "      <td>w</td>\n",
       "      <td>v</td>\n",
       "      <td>1.71</td>\n",
       "      <td>t</td>\n",
       "      <td>f</td>\n",
       "      <td>0</td>\n",
       "      <td>f</td>\n",
       "      <td>s</td>\n",
       "      <td>120</td>\n",
       "      <td>0</td>\n",
       "      <td>+</td>\n",
       "    </tr>\n",
       "    <tr>\n",
       "      <th>...</th>\n",
       "      <td>...</td>\n",
       "      <td>...</td>\n",
       "      <td>...</td>\n",
       "      <td>...</td>\n",
       "      <td>...</td>\n",
       "      <td>...</td>\n",
       "      <td>...</td>\n",
       "      <td>...</td>\n",
       "      <td>...</td>\n",
       "      <td>...</td>\n",
       "      <td>...</td>\n",
       "      <td>...</td>\n",
       "      <td>...</td>\n",
       "      <td>...</td>\n",
       "      <td>...</td>\n",
       "      <td>...</td>\n",
       "    </tr>\n",
       "    <tr>\n",
       "      <th>685</th>\n",
       "      <td>b</td>\n",
       "      <td>21.08</td>\n",
       "      <td>10.085</td>\n",
       "      <td>y</td>\n",
       "      <td>p</td>\n",
       "      <td>e</td>\n",
       "      <td>h</td>\n",
       "      <td>1.25</td>\n",
       "      <td>f</td>\n",
       "      <td>f</td>\n",
       "      <td>0</td>\n",
       "      <td>f</td>\n",
       "      <td>g</td>\n",
       "      <td>260</td>\n",
       "      <td>0</td>\n",
       "      <td>-</td>\n",
       "    </tr>\n",
       "    <tr>\n",
       "      <th>686</th>\n",
       "      <td>a</td>\n",
       "      <td>22.67</td>\n",
       "      <td>0.750</td>\n",
       "      <td>u</td>\n",
       "      <td>g</td>\n",
       "      <td>c</td>\n",
       "      <td>v</td>\n",
       "      <td>2.00</td>\n",
       "      <td>f</td>\n",
       "      <td>t</td>\n",
       "      <td>2</td>\n",
       "      <td>t</td>\n",
       "      <td>g</td>\n",
       "      <td>200</td>\n",
       "      <td>394</td>\n",
       "      <td>-</td>\n",
       "    </tr>\n",
       "    <tr>\n",
       "      <th>687</th>\n",
       "      <td>a</td>\n",
       "      <td>25.25</td>\n",
       "      <td>13.500</td>\n",
       "      <td>y</td>\n",
       "      <td>p</td>\n",
       "      <td>ff</td>\n",
       "      <td>ff</td>\n",
       "      <td>2.00</td>\n",
       "      <td>f</td>\n",
       "      <td>t</td>\n",
       "      <td>1</td>\n",
       "      <td>t</td>\n",
       "      <td>g</td>\n",
       "      <td>200</td>\n",
       "      <td>1</td>\n",
       "      <td>-</td>\n",
       "    </tr>\n",
       "    <tr>\n",
       "      <th>688</th>\n",
       "      <td>b</td>\n",
       "      <td>17.92</td>\n",
       "      <td>0.205</td>\n",
       "      <td>u</td>\n",
       "      <td>g</td>\n",
       "      <td>aa</td>\n",
       "      <td>v</td>\n",
       "      <td>0.04</td>\n",
       "      <td>f</td>\n",
       "      <td>f</td>\n",
       "      <td>0</td>\n",
       "      <td>f</td>\n",
       "      <td>g</td>\n",
       "      <td>280</td>\n",
       "      <td>750</td>\n",
       "      <td>-</td>\n",
       "    </tr>\n",
       "    <tr>\n",
       "      <th>689</th>\n",
       "      <td>b</td>\n",
       "      <td>35</td>\n",
       "      <td>3.375</td>\n",
       "      <td>u</td>\n",
       "      <td>g</td>\n",
       "      <td>c</td>\n",
       "      <td>h</td>\n",
       "      <td>8.29</td>\n",
       "      <td>f</td>\n",
       "      <td>f</td>\n",
       "      <td>0</td>\n",
       "      <td>t</td>\n",
       "      <td>g</td>\n",
       "      <td>0</td>\n",
       "      <td>0</td>\n",
       "      <td>-</td>\n",
       "    </tr>\n",
       "  </tbody>\n",
       "</table>\n",
       "<p>690 rows × 16 columns</p>\n",
       "</div>"
      ],
      "text/plain": [
       "    a1     a2      a3 a4 a5  a6  a7    a8 a9 a10  a11 a12 a13  a14  a15  l\n",
       "0    b  30.83   0.000  u  g   w   v  1.25  t   t    1   f   g  202    0  +\n",
       "1    a  58.67   4.460  u  g   q   h  3.04  t   t    6   f   g   43  560  +\n",
       "2    a   24.5   0.500  u  g   q   h  1.50  t   f    0   f   g  280  824  +\n",
       "3    b  27.83   1.540  u  g   w   v  3.75  t   t    5   t   g  100    3  +\n",
       "4    b  20.17   5.625  u  g   w   v  1.71  t   f    0   f   s  120    0  +\n",
       "..  ..    ...     ... .. ..  ..  ..   ... ..  ..  ...  ..  ..  ...  ... ..\n",
       "685  b  21.08  10.085  y  p   e   h  1.25  f   f    0   f   g  260    0  -\n",
       "686  a  22.67   0.750  u  g   c   v  2.00  f   t    2   t   g  200  394  -\n",
       "687  a  25.25  13.500  y  p  ff  ff  2.00  f   t    1   t   g  200    1  -\n",
       "688  b  17.92   0.205  u  g  aa   v  0.04  f   f    0   f   g  280  750  -\n",
       "689  b     35   3.375  u  g   c   h  8.29  f   f    0   t   g    0    0  -\n",
       "\n",
       "[690 rows x 16 columns]"
      ]
     },
     "execution_count": 4,
     "metadata": {},
     "output_type": "execute_result"
    }
   ],
   "source": [
    "df.dropna()"
   ]
  },
  {
   "cell_type": "code",
   "execution_count": 5,
   "metadata": {},
   "outputs": [],
   "source": [
    "df = pd.get_dummies(data = df, columns = [\"a1\", \"a4\", \"a5\", \"a6\", \"a7\", \"a9\", \"a10\", \"a12\", \"a13\" ])"
   ]
  },
  {
   "cell_type": "code",
   "execution_count": 6,
   "metadata": {},
   "outputs": [],
   "source": [
    "label_encoder = preprocessing.LabelEncoder()\n",
    "df[\"l\"] = label_encoder.fit_transform(df[\"l\"])"
   ]
  },
  {
   "cell_type": "code",
   "execution_count": 7,
   "metadata": {
    "scrolled": true
   },
   "outputs": [
    {
     "data": {
      "text/html": [
       "<div>\n",
       "<style scoped>\n",
       "    .dataframe tbody tr th:only-of-type {\n",
       "        vertical-align: middle;\n",
       "    }\n",
       "\n",
       "    .dataframe tbody tr th {\n",
       "        vertical-align: top;\n",
       "    }\n",
       "\n",
       "    .dataframe thead th {\n",
       "        text-align: right;\n",
       "    }\n",
       "</style>\n",
       "<table border=\"1\" class=\"dataframe\">\n",
       "  <thead>\n",
       "    <tr style=\"text-align: right;\">\n",
       "      <th></th>\n",
       "      <th>a2</th>\n",
       "      <th>a3</th>\n",
       "      <th>a8</th>\n",
       "      <th>a11</th>\n",
       "      <th>a14</th>\n",
       "      <th>a15</th>\n",
       "      <th>l</th>\n",
       "      <th>a1_a</th>\n",
       "      <th>a1_b</th>\n",
       "      <th>a4_l</th>\n",
       "      <th>...</th>\n",
       "      <th>a7_z</th>\n",
       "      <th>a9_f</th>\n",
       "      <th>a9_t</th>\n",
       "      <th>a10_f</th>\n",
       "      <th>a10_t</th>\n",
       "      <th>a12_f</th>\n",
       "      <th>a12_t</th>\n",
       "      <th>a13_g</th>\n",
       "      <th>a13_p</th>\n",
       "      <th>a13_s</th>\n",
       "    </tr>\n",
       "  </thead>\n",
       "  <tbody>\n",
       "    <tr>\n",
       "      <th>0</th>\n",
       "      <td>30.83</td>\n",
       "      <td>0.000</td>\n",
       "      <td>1.25</td>\n",
       "      <td>1</td>\n",
       "      <td>202</td>\n",
       "      <td>0</td>\n",
       "      <td>0</td>\n",
       "      <td>0</td>\n",
       "      <td>1</td>\n",
       "      <td>0</td>\n",
       "      <td>...</td>\n",
       "      <td>0</td>\n",
       "      <td>0</td>\n",
       "      <td>1</td>\n",
       "      <td>0</td>\n",
       "      <td>1</td>\n",
       "      <td>1</td>\n",
       "      <td>0</td>\n",
       "      <td>1</td>\n",
       "      <td>0</td>\n",
       "      <td>0</td>\n",
       "    </tr>\n",
       "    <tr>\n",
       "      <th>1</th>\n",
       "      <td>58.67</td>\n",
       "      <td>4.460</td>\n",
       "      <td>3.04</td>\n",
       "      <td>6</td>\n",
       "      <td>43</td>\n",
       "      <td>560</td>\n",
       "      <td>0</td>\n",
       "      <td>1</td>\n",
       "      <td>0</td>\n",
       "      <td>0</td>\n",
       "      <td>...</td>\n",
       "      <td>0</td>\n",
       "      <td>0</td>\n",
       "      <td>1</td>\n",
       "      <td>0</td>\n",
       "      <td>1</td>\n",
       "      <td>1</td>\n",
       "      <td>0</td>\n",
       "      <td>1</td>\n",
       "      <td>0</td>\n",
       "      <td>0</td>\n",
       "    </tr>\n",
       "    <tr>\n",
       "      <th>2</th>\n",
       "      <td>24.5</td>\n",
       "      <td>0.500</td>\n",
       "      <td>1.50</td>\n",
       "      <td>0</td>\n",
       "      <td>280</td>\n",
       "      <td>824</td>\n",
       "      <td>0</td>\n",
       "      <td>1</td>\n",
       "      <td>0</td>\n",
       "      <td>0</td>\n",
       "      <td>...</td>\n",
       "      <td>0</td>\n",
       "      <td>0</td>\n",
       "      <td>1</td>\n",
       "      <td>1</td>\n",
       "      <td>0</td>\n",
       "      <td>1</td>\n",
       "      <td>0</td>\n",
       "      <td>1</td>\n",
       "      <td>0</td>\n",
       "      <td>0</td>\n",
       "    </tr>\n",
       "    <tr>\n",
       "      <th>3</th>\n",
       "      <td>27.83</td>\n",
       "      <td>1.540</td>\n",
       "      <td>3.75</td>\n",
       "      <td>5</td>\n",
       "      <td>100</td>\n",
       "      <td>3</td>\n",
       "      <td>0</td>\n",
       "      <td>0</td>\n",
       "      <td>1</td>\n",
       "      <td>0</td>\n",
       "      <td>...</td>\n",
       "      <td>0</td>\n",
       "      <td>0</td>\n",
       "      <td>1</td>\n",
       "      <td>0</td>\n",
       "      <td>1</td>\n",
       "      <td>0</td>\n",
       "      <td>1</td>\n",
       "      <td>1</td>\n",
       "      <td>0</td>\n",
       "      <td>0</td>\n",
       "    </tr>\n",
       "    <tr>\n",
       "      <th>4</th>\n",
       "      <td>20.17</td>\n",
       "      <td>5.625</td>\n",
       "      <td>1.71</td>\n",
       "      <td>0</td>\n",
       "      <td>120</td>\n",
       "      <td>0</td>\n",
       "      <td>0</td>\n",
       "      <td>0</td>\n",
       "      <td>1</td>\n",
       "      <td>0</td>\n",
       "      <td>...</td>\n",
       "      <td>0</td>\n",
       "      <td>0</td>\n",
       "      <td>1</td>\n",
       "      <td>1</td>\n",
       "      <td>0</td>\n",
       "      <td>1</td>\n",
       "      <td>0</td>\n",
       "      <td>0</td>\n",
       "      <td>0</td>\n",
       "      <td>1</td>\n",
       "    </tr>\n",
       "  </tbody>\n",
       "</table>\n",
       "<p>5 rows × 47 columns</p>\n",
       "</div>"
      ],
      "text/plain": [
       "      a2     a3    a8  a11  a14  a15  l  a1_a  a1_b  a4_l  ...  a7_z  a9_f  \\\n",
       "0  30.83  0.000  1.25    1  202    0  0     0     1     0  ...     0     0   \n",
       "1  58.67  4.460  3.04    6   43  560  0     1     0     0  ...     0     0   \n",
       "2   24.5  0.500  1.50    0  280  824  0     1     0     0  ...     0     0   \n",
       "3  27.83  1.540  3.75    5  100    3  0     0     1     0  ...     0     0   \n",
       "4  20.17  5.625  1.71    0  120    0  0     0     1     0  ...     0     0   \n",
       "\n",
       "   a9_t  a10_f  a10_t  a12_f  a12_t  a13_g  a13_p  a13_s  \n",
       "0     1      0      1      1      0      1      0      0  \n",
       "1     1      0      1      1      0      1      0      0  \n",
       "2     1      1      0      1      0      1      0      0  \n",
       "3     1      0      1      0      1      1      0      0  \n",
       "4     1      1      0      1      0      0      0      1  \n",
       "\n",
       "[5 rows x 47 columns]"
      ]
     },
     "execution_count": 7,
     "metadata": {},
     "output_type": "execute_result"
    }
   ],
   "source": [
    "df.head()"
   ]
  },
  {
   "cell_type": "code",
   "execution_count": 8,
   "metadata": {},
   "outputs": [],
   "source": [
    "y = df[\"l\"]\n",
    "X = df.drop('l', axis=1)"
   ]
  },
  {
   "cell_type": "code",
   "execution_count": 9,
   "metadata": {},
   "outputs": [],
   "source": [
    "x = X.values"
   ]
  },
  {
   "cell_type": "code",
   "execution_count": 10,
   "metadata": {},
   "outputs": [],
   "source": [
    "min_max_scaler = preprocessing.MinMaxScaler()\n",
    "x_scaled = min_max_scaler.fit_transform(x)\n",
    "df = pd.DataFrame(x_scaled)"
   ]
  },
  {
   "cell_type": "code",
   "execution_count": 11,
   "metadata": {},
   "outputs": [],
   "source": [
    "def get_f1(y_true, y_pred):\n",
    "    true_positives = K.sum(K.round(K.clip(y_true * y_pred, 0, 1)))\n",
    "    possible_positives = K.sum(K.round(K.clip(y_true, 0, 1)))\n",
    "    predicted_positives = K.sum(K.round(K.clip(y_pred, 0, 1)))\n",
    "    precision = true_positives / (predicted_positives + K.epsilon())\n",
    "    recall = true_positives / (possible_positives + K.epsilon())\n",
    "    f1_val = 2*(precision*recall)/(precision+recall+K.epsilon())\n",
    "    return f1_val"
   ]
  },
  {
   "cell_type": "code",
   "execution_count": 12,
   "metadata": {},
   "outputs": [],
   "source": [
    "\n",
    "def one_hidden(neurons = 2, activation='relu', loss='binary_crossentropy', optimizer='adam'):\n",
    "    seed = 7\n",
    "    kfold = KFold(n_splits=5, shuffle=True, random_state=seed)\n",
    "    cvscores = []\n",
    "    for train, test in kfold.split(df, y):\n",
    "        \n",
    "        model_1 = Sequential()\n",
    "        model_1.add(Dense(neurons, input_dim = 46, activation = 'sigmoid'))\n",
    "        model_1.add(Dense(1))\n",
    "        model_1.compile(loss=loss, optimizer=optimizer, metrics=[get_f1])\n",
    "        \n",
    "        # Fit_ the model\n",
    "        model_1.fit(df.iloc[train], y[train], epochs=150, batch_size=10, verbose=0)\n",
    "        \n",
    "        # evaluate the model\n",
    "        scores = model_1.evaluate(df.iloc[test], y[test], verbose=0)\n",
    "        print(\"%s: %.2f%%\" % (model_1.metrics_names[1], scores[1]*100))\n",
    "        cvscores.append(scores[1] * 100)\n",
    "    print(\"%.2f%% (+/- %.2f%%)\" % (np.mean(cvscores), np.std(cvscores)))"
   ]
  },
  {
   "cell_type": "code",
   "execution_count": 79,
   "metadata": {},
   "outputs": [],
   "source": [
    "def two_hidden(neurons = 2, neurons_2 = 2, activation='relu', loss='binary_crossentropy', optimizer='adam'):\n",
    "    seed = 7\n",
    "    kfold = KFold(n_splits=5, shuffle=True, random_state=seed)\n",
    "    cvscores = []\n",
    "    for train, test in kfold.split(df, y):\n",
    "        # Fit_ the model\n",
    "\n",
    "        model_2 = Sequential()\n",
    "        model_2.add(Dense(neurons, input_dim=46, activation=activation))\n",
    "        model_2.add(Dense(neurons_2, activation=activation))\n",
    "        model_2.add(Dense(1, activation='sigmoid'))\n",
    "        model_2.compile(loss=loss, optimizer=optimizer, metrics=[get_f1])\n",
    "\n",
    "        model_2.fit(df.iloc[train], y[train], epochs=150, batch_size=10, verbose=0)\n",
    "        # evaluate the model\n",
    "        scores = model_2.evaluate(df.iloc[test], y[test], verbose=0)\n",
    "        cvscores.append(scores[1] * 100)\n",
    "    print(\"%d,%d,%s,%s ,%.2f%%,%.2f%%\" % (neurons, neurons_2, activation, loss, np.mean(cvscores), np.std(cvscores)))"
   ]
  },
  {
   "cell_type": "code",
   "execution_count": 14,
   "metadata": {},
   "outputs": [],
   "source": [
    "def three_hidden(neurons = 2, activation='relu', loss='binary_crossentropy', optimizer='adam'):\n",
    "    seed = 7\n",
    "    kfold = KFold(n_splits=5, shuffle=True, random_state=seed)\n",
    "    cvscores = []\n",
    "    for train, test in kfold.split(df, y):\n",
    "        # Fit_ the model\n",
    "        \n",
    "        model_3 = Sequential()\n",
    "        model_3.add(Dense(40, input_dim=46, activation='relu'))\n",
    "        model_3.add(Dense(20, activation=activation))\n",
    "        model_3.add(Dense(10, activation=activation))\n",
    "        model_3.add(Dense(1, activation=activation))\n",
    "        model_3.compile(loss=loss, optimizer=optimizer, metrics=[get_f1])\n",
    "        \n",
    "        model_3.fit(df.iloc[train], y[train], epochs=150, batch_size=10, verbose=0)\n",
    "        # evaluate the model\n",
    "        scores = model_3.evaluate(df.iloc[test], y[test], verbose=0)\n",
    "        cvscores.append(scores[1] * 100)\n",
    "    print(\"%.2f%% (+/- %.2f%%)\" % (np.mean(cvscores), np.std(cvscores)))"
   ]
  },
  {
   "cell_type": "code",
   "execution_count": 25,
   "metadata": {},
   "outputs": [
    {
     "name": "stdout",
     "output_type": "stream",
     "text": [
      "neurons: 2, meurons_2 = 2, activation = relu, loss = binary_crossentropy , F1 = 75.23% (+/- 4.66%)\n"
     ]
    }
   ],
   "source": [
    "# one_hidden()\n",
    "two_hidden()\n",
    "# three_hidden()"
   ]
  },
  {
   "cell_type": "markdown",
   "metadata": {},
   "source": [
    "#### The best model is with 2 hidden layers"
   ]
  },
  {
   "cell_type": "markdown",
   "metadata": {},
   "source": [
    "## Neurones"
   ]
  },
  {
   "cell_type": "code",
   "execution_count": 41,
   "metadata": {},
   "outputs": [
    {
     "name": "stdout",
     "output_type": "stream",
     "text": [
      "Neurons 1,Nuerons 2,Actication,Loss,F1 Score for 5-Fold,F1 Score std\n"
     ]
    },
    {
     "ename": "TypeError",
     "evalue": "'int' object is not iterable",
     "output_type": "error",
     "traceback": [
      "\u001b[0;31m---------------------------------------------------------------------------\u001b[0m",
      "\u001b[0;31mTypeError\u001b[0m                                 Traceback (most recent call last)",
      "\u001b[0;32m<ipython-input-41-ee50f6b1feb0>\u001b[0m in \u001b[0;36m<module>\u001b[0;34m\u001b[0m\n\u001b[1;32m      1\u001b[0m \u001b[0mprint\u001b[0m\u001b[0;34m(\u001b[0m\u001b[0;34m\"Neurons 1,Nuerons 2,Actication,Loss,F1 Score for 5-Fold,F1 Score std\"\u001b[0m\u001b[0;34m)\u001b[0m\u001b[0;34m\u001b[0m\u001b[0;34m\u001b[0m\u001b[0m\n\u001b[0;32m----> 2\u001b[0;31m \u001b[0;32mfor\u001b[0m \u001b[0mn\u001b[0m \u001b[0;32min\u001b[0m \u001b[0;36m40\u001b[0m\u001b[0;34m:\u001b[0m\u001b[0;34m\u001b[0m\u001b[0;34m\u001b[0m\u001b[0m\n\u001b[0m\u001b[1;32m      3\u001b[0m     \u001b[0;32mfor\u001b[0m \u001b[0mn2\u001b[0m \u001b[0;32min\u001b[0m \u001b[0;36m10\u001b[0m\u001b[0;34m,\u001b[0m \u001b[0;36m40\u001b[0m\u001b[0;34m:\u001b[0m\u001b[0;34m\u001b[0m\u001b[0;34m\u001b[0m\u001b[0m\n\u001b[1;32m      4\u001b[0m         \u001b[0;32mfor\u001b[0m \u001b[0mactivation\u001b[0m \u001b[0;32min\u001b[0m \u001b[0;34m'softmax'\u001b[0m\u001b[0;34m,\u001b[0m \u001b[0;34m'relu'\u001b[0m\u001b[0;34m,\u001b[0m \u001b[0;34m'linear'\u001b[0m\u001b[0;34m:\u001b[0m\u001b[0;34m\u001b[0m\u001b[0;34m\u001b[0m\u001b[0m\n\u001b[1;32m      5\u001b[0m             \u001b[0;32mfor\u001b[0m \u001b[0mloss\u001b[0m \u001b[0;32min\u001b[0m \u001b[0;34m'binary_crossentropy'\u001b[0m\u001b[0;34m,\u001b[0m \u001b[0;34m'hinge'\u001b[0m\u001b[0;34m,\u001b[0m \u001b[0;34m:\u001b[0m\u001b[0;34m\u001b[0m\u001b[0;34m\u001b[0m\u001b[0m\n",
      "\u001b[0;31mTypeError\u001b[0m: 'int' object is not iterable"
     ]
    }
   ],
   "source": [
    "print(\"Neurons 1,Nuerons 2,Actication,Loss,F1 Score for 5-Fold,F1 Score std\")\n",
    "for n in 10, 20, 40:\n",
    "    for n2 in 10, 20, 40:\n",
    "        for activation in 'softmax' , 'softplus', 'relu', 'linear':\n",
    "            for loss in 'binary_crossentropy', 'hinge':\n",
    "                two_hidden(neurons = n, neurons_2 = n2, activation = activation, loss = loss )\n",
    "    "
   ]
  },
  {
   "cell_type": "code",
   "execution_count": 43,
   "metadata": {},
   "outputs": [
    {
     "name": "stdout",
     "output_type": "stream",
     "text": [
      "Neurons 1,Nuerons 2,Actication,Loss,F1 Score for 5-Fold,F1 Score std\n",
      "40,10,softmax,binary_crossentropy ,82.01%,3.63%\n",
      "40,10,softmax,hinge ,78.55%,3.27%\n",
      "40,10,softplus,binary_crossentropy ,79.84%,3.05%\n",
      "40,10,softplus,hinge ,80.90%,1.93%\n",
      "40,10,relu,binary_crossentropy ,78.35%,2.20%\n",
      "40,10,relu,hinge ,82.03%,2.00%\n",
      "40,10,linear,binary_crossentropy ,80.05%,3.76%\n",
      "40,10,linear,hinge ,80.59%,3.31%\n"
     ]
    }
   ],
   "source": [
    "print(\"Neurons 1,Nuerons 2,Actication,Loss,F1 Score for 5-Fold,F1 Score std\")\n",
    "\n",
    "\n",
    "for activation in 'softmax' , 'softplus', 'relu', 'linear':\n",
    "    for loss in 'binary_crossentropy', 'hinge', :\n",
    "        two_hidden(neurons = 40, neurons_2 = 10, activation = activation, loss = loss )\n"
   ]
  },
  {
   "cell_type": "code",
   "execution_count": 32,
   "metadata": {},
   "outputs": [
    {
     "name": "stdout",
     "output_type": "stream",
     "text": [
      "2,2,linear,hinge ,79.13%,5.25%\n"
     ]
    }
   ],
   "source": [
    "two_hidden(neurons = 2, neurons_2 = 2, activation = 'linear', loss = 'hinge' )"
   ]
  },
  {
   "cell_type": "code",
   "execution_count": 37,
   "metadata": {},
   "outputs": [
    {
     "name": "stdout",
     "output_type": "stream",
     "text": [
      "get_f1: 76.40%\n",
      "get_f1: 76.11%\n",
      "get_f1: 78.27%\n",
      "get_f1: 84.70%\n",
      "get_f1: 73.27%\n",
      "77.75% (+/- 3.83%)\n"
     ]
    }
   ],
   "source": [
    "three_hidden(activation = 'linear', loss = 'hinge' )"
   ]
  },
  {
   "cell_type": "code",
   "execution_count": 81,
   "metadata": {},
   "outputs": [],
   "source": [
    "from keras.regularizers import l1, l2\n",
    "def two_hidden_with_regularization(neurons = 2, neurons_2 = 2, activation='relu', loss='binary_crossentropy', optimizer='adam', l1_val = 0.01):\n",
    "    seed = 7\n",
    "    kfold = KFold(n_splits=5, shuffle=True, random_state=seed)\n",
    "    cvscores = []\n",
    "    for train, test in kfold.split(df, y):\n",
    "        # Fit_ the model\n",
    "\n",
    "        model_2 = Sequential()\n",
    "        model_2.add(Dense(neurons, input_dim=46, activation=activation, activity_regularizer=l1(l1_val)))\n",
    "        model_2.add(Dense(neurons_2, activation=activation, activity_regularizer=l1(l1_val)))\n",
    "        model_2.add(Dense(1, activation='sigmoid'))\n",
    "        model_2.compile(loss=loss, optimizer=optimizer, metrics=[get_f1])\n",
    "\n",
    "        model_2.fit(df.iloc[train], y[train], epochs=150, batch_size=10, verbose=0)\n",
    "        # evaluate the model\n",
    "        scores = model_2.evaluate(df.iloc[test], y[test], verbose=0)\n",
    "        cvscores.append(scores[1] * 100)\n",
    "    print(\"%d,%d,%s,%s ,%.2f%%,%.2f%%\" % (neurons, neurons_2, activation, loss, np.mean(cvscores), np.std(cvscores)))"
   ]
  },
  {
   "cell_type": "code",
   "execution_count": 82,
   "metadata": {},
   "outputs": [
    {
     "name": "stdout",
     "output_type": "stream",
     "text": [
      "40,10,relu,binary_crossentropy ,80.01%,3.72%\n",
      "40,10,relu,binary_crossentropy ,80.36%,3.35%\n",
      "40,10,relu,binary_crossentropy ,79.61%,3.78%\n",
      "40,10,relu,binary_crossentropy ,75.73%,3.60%\n"
     ]
    }
   ],
   "source": [
    "two_hidden_with_regularization(40,10,'relu', 'binary_crossentropy', l1_val = 0.0001)\n",
    "two_hidden_with_regularization(40,10,'relu', 'binary_crossentropy',l1_val =  0.001)\n",
    "two_hidden_with_regularization(40,10,'relu', 'binary_crossentropy',l1_val =  0.01)\n",
    "two_hidden_with_regularization(40,10,'relu', 'binary_crossentropy', l1_val = 0.1)"
   ]
  },
  {
   "cell_type": "code",
   "execution_count": 74,
   "metadata": {},
   "outputs": [],
   "source": [
    "from keras.regularizers import l1, l2\n",
    "def two_hidden_with_regularization_2(neurons = 2, neurons_2 = 2, activation='relu', loss='binary_crossentropy', optimizer='adam', l2_val = 0.01):\n",
    "    seed = 7\n",
    "    kfold = KFold(n_splits=5, shuffle=True, random_state=seed)\n",
    "    cvscores = []\n",
    "    for train, test in kfold.split(df, y):\n",
    "        # Fit_ the model\n",
    "\n",
    "        model_2 = Sequential()\n",
    "        model_2.add(Dense(neurons, input_dim=46, activation=activation, activity_regularizer=l2(l2_val)))\n",
    "        model_2.add(Dense(neurons_2, activation=activation, activity_regularizer=l2(l2_val)))\n",
    "        model_2.add(Dense(1, activation='sigmoid'))\n",
    "        model_2.compile(loss=loss, optimizer=optimizer, metrics=[get_f1])\n",
    "\n",
    "        model_2.fit(df.iloc[train], y[train], epochs=150, batch_size=10, verbose=0)\n",
    "        # evaluate the model\n",
    "        scores = model_2.evaluate(df.iloc[test], y[test], verbose=0)\n",
    "        cvscores.append(scores[1] * 100)\n",
    "    print(\"%d,%d,%s,%s ,%.2f%%,%.2f%%\" % (neurons, neurons_2, activation, loss, np.mean(cvscores), np.std(cvscores)))"
   ]
  },
  {
   "cell_type": "code",
   "execution_count": 83,
   "metadata": {},
   "outputs": [
    {
     "name": "stdout",
     "output_type": "stream",
     "text": [
      "40,10,relu,binary_crossentropy ,77.64%,3.83%\n",
      "40,10,relu,binary_crossentropy ,80.47%,2.63%\n",
      "40,10,relu,binary_crossentropy ,78.20%,2.82%\n",
      "40,10,relu,binary_crossentropy ,78.43%,2.67%\n"
     ]
    }
   ],
   "source": [
    "two_hidden_with_regularization_2(40,10,'relu', 'binary_crossentropy', l2_val = 0.0001)\n",
    "two_hidden_with_regularization_2(40,10,'relu', 'binary_crossentropy',l2_val =  0.001)\n",
    "two_hidden_with_regularization_2(40,10,'relu', 'binary_crossentropy',l2_val =  0.01)\n",
    "two_hidden_with_regularization_2(40,10,'relu', 'binary_crossentropy', l2_val = 0.1)"
   ]
  },
  {
   "cell_type": "code",
   "execution_count": 80,
   "metadata": {},
   "outputs": [
    {
     "name": "stdout",
     "output_type": "stream",
     "text": [
      "40,10,relu,binary_crossentropy ,81.01%,1.62%\n"
     ]
    }
   ],
   "source": [
    "two_hidden_with_regularization(40,10,'relu', 'binary_crossentropy')"
   ]
  }
 ],
 "metadata": {
  "kernelspec": {
   "display_name": "Python 3",
   "language": "python",
   "name": "python3"
  },
  "language_info": {
   "codemirror_mode": {
    "name": "ipython",
    "version": 3
   },
   "file_extension": ".py",
   "mimetype": "text/x-python",
   "name": "python",
   "nbconvert_exporter": "python",
   "pygments_lexer": "ipython3",
   "version": "3.7.5"
  }
 },
 "nbformat": 4,
 "nbformat_minor": 4
}
